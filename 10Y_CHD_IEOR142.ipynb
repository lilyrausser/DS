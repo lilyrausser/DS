{
  "nbformat": 4,
  "nbformat_minor": 0,
  "metadata": {
    "colab": {
      "provenance": [],
      "authorship_tag": "ABX9TyOqtI2tUVNNBjksemzK72s0",
      "include_colab_link": true
    },
    "kernelspec": {
      "name": "python3",
      "display_name": "Python 3"
    },
    "language_info": {
      "name": "python"
    }
  },
  "cells": [
    {
      "cell_type": "markdown",
      "metadata": {
        "id": "view-in-github",
        "colab_type": "text"
      },
      "source": [
        "<a href=\"https://colab.research.google.com/github/lilyrausser/DS/blob/main/10Y_CHD_IEOR142.ipynb\" target=\"_parent\"><img src=\"https://colab.research.google.com/assets/colab-badge.svg\" alt=\"Open In Colab\"/></a>"
      ]
    },
    {
      "cell_type": "code",
      "execution_count": null,
      "metadata": {
        "id": "fhgGjvQ9cbIM"
      },
      "outputs": [],
      "source": [
        "import numpy as np\n",
        "import pandas as pd\n",
        "import os\n",
        "from sklearn.model_selection import train_test_split\n",
        "import statsmodels.formula.api as smf"
      ]
    },
    {
      "cell_type": "code",
      "source": [
        "training_data = pd.read_csv('framingham_train.csv')\n",
        "training_data\n"
      ],
      "metadata": {
        "colab": {
          "base_uri": "https://localhost:8080/",
          "height": 424
        },
        "id": "Io7ZNJlpclK6",
        "outputId": "076af949-e2f6-4194-85a9-678db48f2f8f"
      },
      "execution_count": null,
      "outputs": [
        {
          "output_type": "execute_result",
          "data": {
            "text/plain": [
              "      male  age         education  currentSmoker  cigsPerDay  BPMeds  \\\n",
              "0        0   41  Some high school              1          43       0   \n",
              "1        0   38   High school/GED              1          15       0   \n",
              "2        1   42   High school/GED              1           9       0   \n",
              "3        0   42   High school/GED              0           0       0   \n",
              "4        0   53   High school/GED              0           0       0   \n",
              "...    ...  ...               ...            ...         ...     ...   \n",
              "2555     1   39  Some high school              1          40       0   \n",
              "2556     0   52  Some high school              0           0       0   \n",
              "2557     1   39  Some high school              0           0       0   \n",
              "2558     1   49   High school/GED              1          50       0   \n",
              "2559     0   64  Some high school              0           0       0   \n",
              "\n",
              "      prevalentStroke  prevalentHyp  diabetes  totChol  sysBP  diaBP    BMI  \\\n",
              "0                   0             1         0      306  199.0  106.0  38.75   \n",
              "1                   0             0         0      176  110.0   80.0  24.03   \n",
              "2                   0             0         0      205  110.0   73.0  22.40   \n",
              "3                   0             1         0      263  150.0   88.0  23.68   \n",
              "4                   0             1         0      272  146.0   89.0  25.50   \n",
              "...               ...           ...       ...      ...    ...    ...    ...   \n",
              "2555                0             0         0      209  134.0   82.0  28.34   \n",
              "2556                0             0         0      292  125.0   87.0  31.92   \n",
              "2557                0             0         0      188  105.0   65.0  22.85   \n",
              "2558                0             0         0      252  156.0   91.0  25.35   \n",
              "2559                0             0         0      280  127.0   77.0  30.39   \n",
              "\n",
              "      heartRate  glucose  TenYearCHD  \n",
              "0           100       75           0  \n",
              "1           100      113           0  \n",
              "2            61       66           0  \n",
              "3            96       78           0  \n",
              "4            73       67           0  \n",
              "...         ...      ...         ...  \n",
              "2555         70       75           0  \n",
              "2556         75       67           0  \n",
              "2557         63       76           0  \n",
              "2558         70      114           1  \n",
              "2559         56       78           1  \n",
              "\n",
              "[2560 rows x 16 columns]"
            ],
            "text/html": [
              "\n",
              "  <div id=\"df-451b91c1-790f-4d5c-b464-8a984a47ae1a\">\n",
              "    <div class=\"colab-df-container\">\n",
              "      <div>\n",
              "<style scoped>\n",
              "    .dataframe tbody tr th:only-of-type {\n",
              "        vertical-align: middle;\n",
              "    }\n",
              "\n",
              "    .dataframe tbody tr th {\n",
              "        vertical-align: top;\n",
              "    }\n",
              "\n",
              "    .dataframe thead th {\n",
              "        text-align: right;\n",
              "    }\n",
              "</style>\n",
              "<table border=\"1\" class=\"dataframe\">\n",
              "  <thead>\n",
              "    <tr style=\"text-align: right;\">\n",
              "      <th></th>\n",
              "      <th>male</th>\n",
              "      <th>age</th>\n",
              "      <th>education</th>\n",
              "      <th>currentSmoker</th>\n",
              "      <th>cigsPerDay</th>\n",
              "      <th>BPMeds</th>\n",
              "      <th>prevalentStroke</th>\n",
              "      <th>prevalentHyp</th>\n",
              "      <th>diabetes</th>\n",
              "      <th>totChol</th>\n",
              "      <th>sysBP</th>\n",
              "      <th>diaBP</th>\n",
              "      <th>BMI</th>\n",
              "      <th>heartRate</th>\n",
              "      <th>glucose</th>\n",
              "      <th>TenYearCHD</th>\n",
              "    </tr>\n",
              "  </thead>\n",
              "  <tbody>\n",
              "    <tr>\n",
              "      <th>0</th>\n",
              "      <td>0</td>\n",
              "      <td>41</td>\n",
              "      <td>Some high school</td>\n",
              "      <td>1</td>\n",
              "      <td>43</td>\n",
              "      <td>0</td>\n",
              "      <td>0</td>\n",
              "      <td>1</td>\n",
              "      <td>0</td>\n",
              "      <td>306</td>\n",
              "      <td>199.0</td>\n",
              "      <td>106.0</td>\n",
              "      <td>38.75</td>\n",
              "      <td>100</td>\n",
              "      <td>75</td>\n",
              "      <td>0</td>\n",
              "    </tr>\n",
              "    <tr>\n",
              "      <th>1</th>\n",
              "      <td>0</td>\n",
              "      <td>38</td>\n",
              "      <td>High school/GED</td>\n",
              "      <td>1</td>\n",
              "      <td>15</td>\n",
              "      <td>0</td>\n",
              "      <td>0</td>\n",
              "      <td>0</td>\n",
              "      <td>0</td>\n",
              "      <td>176</td>\n",
              "      <td>110.0</td>\n",
              "      <td>80.0</td>\n",
              "      <td>24.03</td>\n",
              "      <td>100</td>\n",
              "      <td>113</td>\n",
              "      <td>0</td>\n",
              "    </tr>\n",
              "    <tr>\n",
              "      <th>2</th>\n",
              "      <td>1</td>\n",
              "      <td>42</td>\n",
              "      <td>High school/GED</td>\n",
              "      <td>1</td>\n",
              "      <td>9</td>\n",
              "      <td>0</td>\n",
              "      <td>0</td>\n",
              "      <td>0</td>\n",
              "      <td>0</td>\n",
              "      <td>205</td>\n",
              "      <td>110.0</td>\n",
              "      <td>73.0</td>\n",
              "      <td>22.40</td>\n",
              "      <td>61</td>\n",
              "      <td>66</td>\n",
              "      <td>0</td>\n",
              "    </tr>\n",
              "    <tr>\n",
              "      <th>3</th>\n",
              "      <td>0</td>\n",
              "      <td>42</td>\n",
              "      <td>High school/GED</td>\n",
              "      <td>0</td>\n",
              "      <td>0</td>\n",
              "      <td>0</td>\n",
              "      <td>0</td>\n",
              "      <td>1</td>\n",
              "      <td>0</td>\n",
              "      <td>263</td>\n",
              "      <td>150.0</td>\n",
              "      <td>88.0</td>\n",
              "      <td>23.68</td>\n",
              "      <td>96</td>\n",
              "      <td>78</td>\n",
              "      <td>0</td>\n",
              "    </tr>\n",
              "    <tr>\n",
              "      <th>4</th>\n",
              "      <td>0</td>\n",
              "      <td>53</td>\n",
              "      <td>High school/GED</td>\n",
              "      <td>0</td>\n",
              "      <td>0</td>\n",
              "      <td>0</td>\n",
              "      <td>0</td>\n",
              "      <td>1</td>\n",
              "      <td>0</td>\n",
              "      <td>272</td>\n",
              "      <td>146.0</td>\n",
              "      <td>89.0</td>\n",
              "      <td>25.50</td>\n",
              "      <td>73</td>\n",
              "      <td>67</td>\n",
              "      <td>0</td>\n",
              "    </tr>\n",
              "    <tr>\n",
              "      <th>...</th>\n",
              "      <td>...</td>\n",
              "      <td>...</td>\n",
              "      <td>...</td>\n",
              "      <td>...</td>\n",
              "      <td>...</td>\n",
              "      <td>...</td>\n",
              "      <td>...</td>\n",
              "      <td>...</td>\n",
              "      <td>...</td>\n",
              "      <td>...</td>\n",
              "      <td>...</td>\n",
              "      <td>...</td>\n",
              "      <td>...</td>\n",
              "      <td>...</td>\n",
              "      <td>...</td>\n",
              "      <td>...</td>\n",
              "    </tr>\n",
              "    <tr>\n",
              "      <th>2555</th>\n",
              "      <td>1</td>\n",
              "      <td>39</td>\n",
              "      <td>Some high school</td>\n",
              "      <td>1</td>\n",
              "      <td>40</td>\n",
              "      <td>0</td>\n",
              "      <td>0</td>\n",
              "      <td>0</td>\n",
              "      <td>0</td>\n",
              "      <td>209</td>\n",
              "      <td>134.0</td>\n",
              "      <td>82.0</td>\n",
              "      <td>28.34</td>\n",
              "      <td>70</td>\n",
              "      <td>75</td>\n",
              "      <td>0</td>\n",
              "    </tr>\n",
              "    <tr>\n",
              "      <th>2556</th>\n",
              "      <td>0</td>\n",
              "      <td>52</td>\n",
              "      <td>Some high school</td>\n",
              "      <td>0</td>\n",
              "      <td>0</td>\n",
              "      <td>0</td>\n",
              "      <td>0</td>\n",
              "      <td>0</td>\n",
              "      <td>0</td>\n",
              "      <td>292</td>\n",
              "      <td>125.0</td>\n",
              "      <td>87.0</td>\n",
              "      <td>31.92</td>\n",
              "      <td>75</td>\n",
              "      <td>67</td>\n",
              "      <td>0</td>\n",
              "    </tr>\n",
              "    <tr>\n",
              "      <th>2557</th>\n",
              "      <td>1</td>\n",
              "      <td>39</td>\n",
              "      <td>Some high school</td>\n",
              "      <td>0</td>\n",
              "      <td>0</td>\n",
              "      <td>0</td>\n",
              "      <td>0</td>\n",
              "      <td>0</td>\n",
              "      <td>0</td>\n",
              "      <td>188</td>\n",
              "      <td>105.0</td>\n",
              "      <td>65.0</td>\n",
              "      <td>22.85</td>\n",
              "      <td>63</td>\n",
              "      <td>76</td>\n",
              "      <td>0</td>\n",
              "    </tr>\n",
              "    <tr>\n",
              "      <th>2558</th>\n",
              "      <td>1</td>\n",
              "      <td>49</td>\n",
              "      <td>High school/GED</td>\n",
              "      <td>1</td>\n",
              "      <td>50</td>\n",
              "      <td>0</td>\n",
              "      <td>0</td>\n",
              "      <td>0</td>\n",
              "      <td>0</td>\n",
              "      <td>252</td>\n",
              "      <td>156.0</td>\n",
              "      <td>91.0</td>\n",
              "      <td>25.35</td>\n",
              "      <td>70</td>\n",
              "      <td>114</td>\n",
              "      <td>1</td>\n",
              "    </tr>\n",
              "    <tr>\n",
              "      <th>2559</th>\n",
              "      <td>0</td>\n",
              "      <td>64</td>\n",
              "      <td>Some high school</td>\n",
              "      <td>0</td>\n",
              "      <td>0</td>\n",
              "      <td>0</td>\n",
              "      <td>0</td>\n",
              "      <td>0</td>\n",
              "      <td>0</td>\n",
              "      <td>280</td>\n",
              "      <td>127.0</td>\n",
              "      <td>77.0</td>\n",
              "      <td>30.39</td>\n",
              "      <td>56</td>\n",
              "      <td>78</td>\n",
              "      <td>1</td>\n",
              "    </tr>\n",
              "  </tbody>\n",
              "</table>\n",
              "<p>2560 rows × 16 columns</p>\n",
              "</div>\n",
              "      <button class=\"colab-df-convert\" onclick=\"convertToInteractive('df-451b91c1-790f-4d5c-b464-8a984a47ae1a')\"\n",
              "              title=\"Convert this dataframe to an interactive table.\"\n",
              "              style=\"display:none;\">\n",
              "        \n",
              "  <svg xmlns=\"http://www.w3.org/2000/svg\" height=\"24px\"viewBox=\"0 0 24 24\"\n",
              "       width=\"24px\">\n",
              "    <path d=\"M0 0h24v24H0V0z\" fill=\"none\"/>\n",
              "    <path d=\"M18.56 5.44l.94 2.06.94-2.06 2.06-.94-2.06-.94-.94-2.06-.94 2.06-2.06.94zm-11 1L8.5 8.5l.94-2.06 2.06-.94-2.06-.94L8.5 2.5l-.94 2.06-2.06.94zm10 10l.94 2.06.94-2.06 2.06-.94-2.06-.94-.94-2.06-.94 2.06-2.06.94z\"/><path d=\"M17.41 7.96l-1.37-1.37c-.4-.4-.92-.59-1.43-.59-.52 0-1.04.2-1.43.59L10.3 9.45l-7.72 7.72c-.78.78-.78 2.05 0 2.83L4 21.41c.39.39.9.59 1.41.59.51 0 1.02-.2 1.41-.59l7.78-7.78 2.81-2.81c.8-.78.8-2.07 0-2.86zM5.41 20L4 18.59l7.72-7.72 1.47 1.35L5.41 20z\"/>\n",
              "  </svg>\n",
              "      </button>\n",
              "      \n",
              "  <style>\n",
              "    .colab-df-container {\n",
              "      display:flex;\n",
              "      flex-wrap:wrap;\n",
              "      gap: 12px;\n",
              "    }\n",
              "\n",
              "    .colab-df-convert {\n",
              "      background-color: #E8F0FE;\n",
              "      border: none;\n",
              "      border-radius: 50%;\n",
              "      cursor: pointer;\n",
              "      display: none;\n",
              "      fill: #1967D2;\n",
              "      height: 32px;\n",
              "      padding: 0 0 0 0;\n",
              "      width: 32px;\n",
              "    }\n",
              "\n",
              "    .colab-df-convert:hover {\n",
              "      background-color: #E2EBFA;\n",
              "      box-shadow: 0px 1px 2px rgba(60, 64, 67, 0.3), 0px 1px 3px 1px rgba(60, 64, 67, 0.15);\n",
              "      fill: #174EA6;\n",
              "    }\n",
              "\n",
              "    [theme=dark] .colab-df-convert {\n",
              "      background-color: #3B4455;\n",
              "      fill: #D2E3FC;\n",
              "    }\n",
              "\n",
              "    [theme=dark] .colab-df-convert:hover {\n",
              "      background-color: #434B5C;\n",
              "      box-shadow: 0px 1px 3px 1px rgba(0, 0, 0, 0.15);\n",
              "      filter: drop-shadow(0px 1px 2px rgba(0, 0, 0, 0.3));\n",
              "      fill: #FFFFFF;\n",
              "    }\n",
              "  </style>\n",
              "\n",
              "      <script>\n",
              "        const buttonEl =\n",
              "          document.querySelector('#df-451b91c1-790f-4d5c-b464-8a984a47ae1a button.colab-df-convert');\n",
              "        buttonEl.style.display =\n",
              "          google.colab.kernel.accessAllowed ? 'block' : 'none';\n",
              "\n",
              "        async function convertToInteractive(key) {\n",
              "          const element = document.querySelector('#df-451b91c1-790f-4d5c-b464-8a984a47ae1a');\n",
              "          const dataTable =\n",
              "            await google.colab.kernel.invokeFunction('convertToInteractive',\n",
              "                                                     [key], {});\n",
              "          if (!dataTable) return;\n",
              "\n",
              "          const docLinkHtml = 'Like what you see? Visit the ' +\n",
              "            '<a target=\"_blank\" href=https://colab.research.google.com/notebooks/data_table.ipynb>data table notebook</a>'\n",
              "            + ' to learn more about interactive tables.';\n",
              "          element.innerHTML = '';\n",
              "          dataTable['output_type'] = 'display_data';\n",
              "          await google.colab.output.renderOutput(dataTable, element);\n",
              "          const docLink = document.createElement('div');\n",
              "          docLink.innerHTML = docLinkHtml;\n",
              "          element.appendChild(docLink);\n",
              "        }\n",
              "      </script>\n",
              "    </div>\n",
              "  </div>\n",
              "  "
            ]
          },
          "metadata": {},
          "execution_count": 7
        }
      ]
    },
    {
      "cell_type": "code",
      "source": [
        "test_data = pd.read_csv('framingham_test.csv')"
      ],
      "metadata": {
        "id": "wGtW13dfxHMu"
      },
      "execution_count": null,
      "outputs": []
    },
    {
      "cell_type": "markdown",
      "source": [
        "Question 2a i"
      ],
      "metadata": {
        "id": "bvo_3KPqekzz"
      }
    },
    {
      "cell_type": "markdown",
      "source": [
        "Using the fitted logistic regression model, we will estimate TenYearCHD in relation to the independent features added below: (using all featuers from the table)"
      ],
      "metadata": {
        "id": "zu7WjoZdS_xP"
      }
    },
    {
      "cell_type": "code",
      "source": [
        "\n",
        "logreg = smf.logit(formula = 'TenYearCHD ~ male + age + education + currentSmoker + cigsPerDay + BPMeds + prevalentStroke + prevalentHyp + diabetes + totChol + sysBP + diaBP + BMI + heartRate + glucose',\n",
        "                       data = training_data).fit()\n",
        "\n",
        "print(logreg.summary())"
      ],
      "metadata": {
        "colab": {
          "base_uri": "https://localhost:8080/"
        },
        "id": "dQrNVwnXcpdt",
        "outputId": "096fd839-22ac-4d06-dbae-18b784eb8a9c"
      },
      "execution_count": null,
      "outputs": [
        {
          "output_type": "stream",
          "name": "stdout",
          "text": [
            "Optimization terminated successfully.\n",
            "         Current function value: 0.365281\n",
            "         Iterations 7\n",
            "                           Logit Regression Results                           \n",
            "==============================================================================\n",
            "Dep. Variable:             TenYearCHD   No. Observations:                 2560\n",
            "Model:                          Logit   Df Residuals:                     2542\n",
            "Method:                           MLE   Df Model:                           17\n",
            "Date:                Sun, 19 Mar 2023   Pseudo R-squ.:                  0.1331\n",
            "Time:                        20:25:17   Log-Likelihood:                -935.12\n",
            "converged:                       True   LL-Null:                       -1078.7\n",
            "Covariance Type:            nonrobust   LLR p-value:                 5.181e-51\n",
            "===============================================================================================================\n",
            "                                                  coef    std err          z      P>|z|      [0.025      0.975]\n",
            "---------------------------------------------------------------------------------------------------------------\n",
            "Intercept                                      -9.2740      0.882    -10.516      0.000     -11.002      -7.546\n",
            "education[T.High school/GED]                   -0.1053      0.217     -0.485      0.628      -0.531       0.321\n",
            "education[T.Some college/vocational school]    -0.1025      0.241     -0.425      0.671      -0.575       0.370\n",
            "education[T.Some high school]                   0.0610      0.202      0.302      0.762      -0.334       0.456\n",
            "male                                            0.5621      0.134      4.189      0.000       0.299       0.825\n",
            "age                                             0.0689      0.008      8.303      0.000       0.053       0.085\n",
            "currentSmoker                                   0.1539      0.189      0.816      0.415      -0.216       0.524\n",
            "cigsPerDay                                      0.0155      0.007      2.077      0.038       0.001       0.030\n",
            "BPMeds                                          0.1528      0.281      0.544      0.587      -0.398       0.704\n",
            "prevalentStroke                                 0.8209      0.570      1.441      0.150      -0.296       1.938\n",
            "prevalentHyp                                    0.2075      0.167      1.246      0.213      -0.119       0.534\n",
            "diabetes                                       -0.2975      0.395     -0.753      0.452      -1.072       0.477\n",
            "totChol                                         0.0020      0.001      1.445      0.148      -0.001       0.005\n",
            "sysBP                                           0.0181      0.005      3.900      0.000       0.009       0.027\n",
            "diaBP                                          -0.0045      0.008     -0.584      0.560      -0.020       0.011\n",
            "BMI                                             0.0136      0.016      0.867      0.386      -0.017       0.044\n",
            "heartRate                                      -0.0046      0.005     -0.888      0.374      -0.015       0.006\n",
            "glucose                                         0.0096      0.003      3.439      0.001       0.004       0.015\n",
            "===============================================================================================================\n"
          ]
        }
      ]
    },
    {
      "cell_type": "markdown",
      "source": [
        "*Question* 2a ii"
      ],
      "metadata": {
        "id": "V_iLWIUNfUu9"
      }
    },
    {
      "cell_type": "markdown",
      "source": [
        "Based on the results from the logistic regression above, we can see that gender (male) (based on participant being male or not), age, cigsPerDay, sysBP and glucose are the independent variables with the highest significance in relation to the dependent variable 'TenYearCHD'. I determined this based on the values with the lowest P>|z| value (value closest to zero) and highest z value.\n",
        "\n",
        "For example, current smokers have a higher risk of developing CHD compared to non-smokers. Smokers are e^(0.1539) = 1.2 times more likely to develop TenYearCHD compared to non-smokers.\n"
      ],
      "metadata": {
        "id": "15d8V0_bfWzj"
      }
    },
    {
      "cell_type": "markdown",
      "source": [
        "Question 2a iii"
      ],
      "metadata": {
        "id": "HxVWUvStg2DU"
      }
    },
    {
      "cell_type": "code",
      "source": [
        "#identify threshold value of p (pbar) where it is optimal to prescribe the medication to a patient onlif if their 10 year CHD exceeds pbar\n",
        "#confusion about how to identify Pbar: explanation?model?math?"
      ],
      "metadata": {
        "id": "5Q7Tzch0gajh"
      },
      "execution_count": null,
      "outputs": []
    },
    {
      "cell_type": "markdown",
      "source": [
        "\n",
        "To find pbar, we need to determine:\n",
        "\n",
        "E[cost of medication prescription]= E[cost of no medication prescription]\n",
        "\n",
        "\n",
        "\n",
        "**step 1** (0.10p)*(910,000) + p*(825,000) = 1-(0.10p)*(85,000) + (1-p)*0\n",
        "**step 2** 91,000p + 825,000p = 76,500\n",
        "**step 3** 916,000p = 76,500\n",
        "**step 4** p bar = 0.0835\n",
        "\n",
        "Therefore, if risk for TenYearCHD >= p bar, then medication should not be prescribed because we do not want the cost of not prescribing medication to be greater than the cost of prescribing medication.\n"
      ],
      "metadata": {
        "id": "yleM2ze3uZHj"
      }
    },
    {
      "cell_type": "markdown",
      "source": [
        "Question 2a iv"
      ],
      "metadata": {
        "id": "tdb0dlLGw0-G"
      }
    },
    {
      "cell_type": "markdown",
      "source": [
        "Describing the test set performance of the logistic regression model using the threshold pbar that was determined in the prior question:"
      ],
      "metadata": {
        "id": "IoXczHSWgGRL"
      }
    },
    {
      "cell_type": "code",
      "source": [
        "from sklearn.metrics import confusion_matrix"
      ],
      "metadata": {
        "id": "p7IbJBDpx_YQ"
      },
      "execution_count": null,
      "outputs": []
    },
    {
      "cell_type": "code",
      "source": [
        "\n",
        "p = 0.0835\n",
        "y_test = test_data.drop('TenYearCHD', axis = 1)\n",
        "y_prob = logreg.predict(y_test)\n",
        "y_pred = pd.Series([1 if x >= p else 0 for x in y_prob], index=y_prob.index)\n",
        "cm = confusion_matrix(test_data['TenYearCHD'], y_pred)\n",
        "print (\"Confusion Matrix : \\n\", cm)\n"
      ],
      "metadata": {
        "colab": {
          "base_uri": "https://localhost:8080/"
        },
        "id": "8-Ig7FB2w0DV",
        "outputId": "bdcfdace-785b-465c-c140-93371feb5b4f"
      },
      "execution_count": null,
      "outputs": [
        {
          "output_type": "stream",
          "name": "stdout",
          "text": [
            "Confusion Matrix : \n",
            " [[410 513]\n",
            " [ 32 143]]\n"
          ]
        }
      ]
    },
    {
      "cell_type": "markdown",
      "source": [
        "Calculating TPR, FPR:\n",
        "\n",
        "TPR is a calculation that is used to understand the true positive rate. It is defined by the function of all of the true positives (people who have CHD testing accurately positive for it, a correct diagnosis), divided by the total number of people who actually have the disease but may have been falsely informed that they dont have it (true positives and false negatives).\n",
        "\n",
        "FPR calculates the false positive rate, with false positives, the total number of people who test positive for CHD but do not have CHD, divided by the total number of people who do not have CHD. The latter is a combination of false positives and true negatives, those who do not have CHD and correctly tested negative for it."
      ],
      "metadata": {
        "id": "65LR104RghlE"
      }
    },
    {
      "cell_type": "code",
      "source": [
        "accuracy = (cm.ravel()[0] + cm.ravel()[3]) / sum(cm.ravel()) #(TP + TN) / (TP+FP+TN+FN)\n",
        "TPR = cm.ravel()[3] / (cm.ravel()[3] + cm.ravel()[2]) #TP/(TP+FN)\n",
        "FPR = cm.ravel()[1] / (cm.ravel()[1] + cm.ravel()[0]) #FP/(FP+TN)\n",
        "\n",
        "print('Accuracy: ' + str(round(accuracy, 3)))\n",
        "print('TPR: ' + str(round(TPR, 3)))\n",
        "print('FPR: ' + str(round(FPR, 3)))"
      ],
      "metadata": {
        "colab": {
          "base_uri": "https://localhost:8080/"
        },
        "id": "VZzEHuAryFOU",
        "outputId": "812f2338-2198-42d4-a425-3ccea136f113"
      },
      "execution_count": null,
      "outputs": [
        {
          "output_type": "stream",
          "name": "stdout",
          "text": [
            "Accuracy: 0.504\n",
            "TPR: 0.817\n",
            "FPR: 0.556\n"
          ]
        }
      ]
    },
    {
      "cell_type": "markdown",
      "source": [
        "Question 2a V"
      ],
      "metadata": {
        "id": "6I-UhJaosDDU"
      }
    },
    {
      "cell_type": "code",
      "source": [
        "print(cm.ravel()[0])\n",
        "print(cm.ravel()[3])\n",
        "print(cm.ravel()[1])\n",
        "print(cm.ravel()[2])"
      ],
      "metadata": {
        "colab": {
          "base_uri": "https://localhost:8080/"
        },
        "id": "-HeSF_-_H6iU",
        "outputId": "99fb9dd9-1852-453a-b025-30538d826d9f"
      },
      "execution_count": null,
      "outputs": [
        {
          "output_type": "stream",
          "name": "stdout",
          "text": [
            "410\n",
            "143\n",
            "513\n",
            "32\n"
          ]
        }
      ]
    },
    {
      "cell_type": "markdown",
      "source": [
        "For the first part of this question, we will assume that the CHD outcomes in the test set are not affected by the treatment decision:"
      ],
      "metadata": {
        "id": "UgSLUYEeVWR4"
      }
    },
    {
      "cell_type": "code",
      "source": [
        "\n",
        "#CHD outcomes in test set not affected by treatment decision\n",
        "TP = 410\n",
        "TN = 143\n",
        "FP = 513\n",
        "FN = 32\n",
        "\n",
        "#economic cost per patient\n",
        "cost_per_patient = ((910000*TP)  + (85000*FP) + (825000*FN) + (0*TN)) / (TP+FP+FN+TN)\n",
        "round(cost_per_patient, 1)\n"
      ],
      "metadata": {
        "colab": {
          "base_uri": "https://localhost:8080/"
        },
        "id": "0uF7a5Z2It1_",
        "outputId": "fc24d2d0-27c3-4968-e373-a7cfe8b1aaca"
      },
      "execution_count": null,
      "outputs": [
        {
          "output_type": "execute_result",
          "data": {
            "text/plain": [
              "403556.5"
            ]
          },
          "metadata": {},
          "execution_count": 15
        }
      ]
    },
    {
      "cell_type": "markdown",
      "source": [
        "We cannot make the assumption we made above because the goal of prescribing medication is to reduce the possibility of developing CHD. In this case we need to create an adjusted economic cost per patient that would assume 90% of patients with medication would not develop CHD and the cost of the 90% of positive samples would decrease from 910000 to 85000 due to the positive effects of the medication reducing their CHD.\n",
        "\n",
        "The new equation would look like:"
      ],
      "metadata": {
        "id": "aDckdFsBVy95"
      }
    },
    {
      "cell_type": "code",
      "source": [
        "\n",
        "#CHD outcomes in test set not affected by treatment decision\n",
        "TP = 410\n",
        "TN = 143\n",
        "FP = 513\n",
        "FN = 32\n",
        "\n",
        "#Adjusted cost\n",
        "adjusted_cost_per_patient = ((910000 * (0.1 * TP)) + (85000*(FP+(0.9*TP))) + (825000*FN))/ (TP+FP+FN+TN)\n",
        "round(adjusted_cost_per_patient, 2)"
      ],
      "metadata": {
        "colab": {
          "base_uri": "https://localhost:8080/"
        },
        "outputId": "626b7e13-e5fd-4677-f32a-685d3aaec79f",
        "id": "rzohf6jdXcfZ"
      },
      "execution_count": null,
      "outputs": [
        {
          "output_type": "execute_result",
          "data": {
            "text/plain": [
              "126302.37"
            ]
          },
          "metadata": {},
          "execution_count": 16
        }
      ]
    },
    {
      "cell_type": "markdown",
      "source": [
        "We can now see that the adjusted cost per patient is much lower than the initial economic cost per patient when assuming the medicine reduces the chance of getting CHD."
      ],
      "metadata": {
        "id": "wiuI-Q7cYJF8"
      }
    },
    {
      "cell_type": "markdown",
      "source": [
        "Question 2a vi"
      ],
      "metadata": {
        "id": "s-QKndzgbGiL"
      }
    },
    {
      "cell_type": "markdown",
      "source": [
        "Here we will predict a simple baseline model that none of the patients are at high risk for CHD and as a result will not be recommended treatment for any of the patients."
      ],
      "metadata": {
        "id": "coUcuIjhYsLL"
      }
    },
    {
      "cell_type": "code",
      "source": [
        "#print(\"Confusion Matrix : \\n\", cm)\n",
        "#TP+FP\n",
        "#FPR = FP/(FP+TN)\n",
        "##TPR = TP/(TP+FN)\n",
        "#TPR\n",
        "\n",
        "pred = [0]*test_data.shape[0]\n",
        "cm_base = confusion_matrix(test_data['TenYearCHD'], pred)\n",
        "print (\"Confusion Matrix : \\n\", cm_base)\n",
        "\n",
        "\n",
        "Accuracy_base = (0+923) / sum(cm_base.ravel())\n",
        "TPR_base = cm_base.ravel()[3] / (cm_base.ravel()[2] + cm_base.ravel()[3])\n",
        "FPR_base = cm_base.ravel()[1] / (cm_base.ravel()[1] + cm_base.ravel()[2])\n",
        "print('Accuracy: ' + str(round(Accuracy_base, 2)))\n",
        "print('TPR: ' + str(round(TPR_base, 2)))\n",
        "print('FPR: ' + str(round(FPR_base, 2)))\n",
        "\n",
        "\n",
        "TN_base = 923\n",
        "FN_base = 175\n",
        "\n",
        "##cost_base_per_patient = (FN_base*(825000) + TN_base*(0)) / (TN_base*FN_base)\n",
        "#round(cost_base_per_patient, 2)"
      ],
      "metadata": {
        "colab": {
          "base_uri": "https://localhost:8080/"
        },
        "id": "MOnhLWunQudQ",
        "outputId": "8abd3ce4-1010-4845-a4d7-71ab21ea1585"
      },
      "execution_count": null,
      "outputs": [
        {
          "output_type": "stream",
          "name": "stdout",
          "text": [
            "Confusion Matrix : \n",
            " [[923   0]\n",
            " [175   0]]\n",
            "Accuracy: 0.84\n",
            "TPR: 0.0\n",
            "FPR: 0.0\n"
          ]
        }
      ]
    },
    {
      "cell_type": "markdown",
      "source": [
        "Based on the results, we can see that 923 people in the test set did not develop CHD and 175 people in the test set did develop CHD. As a result, we can find the expepected economic cost per patient as:"
      ],
      "metadata": {
        "id": "0yLfXdc2Y1tc"
      }
    },
    {
      "cell_type": "code",
      "source": [
        "cost_base_per_patient = (FN_base*(825000) + TN_base*(0)) / (TN_base*FN_base)\n",
        "round(cost_base_per_patient, 2)"
      ],
      "metadata": {
        "colab": {
          "base_uri": "https://localhost:8080/"
        },
        "id": "syNv3ORWZM5p",
        "outputId": "b211871c-1d04-4211-a3a3-130801a2e020"
      },
      "execution_count": null,
      "outputs": [
        {
          "output_type": "execute_result",
          "data": {
            "text/plain": [
              "893.82"
            ]
          },
          "metadata": {},
          "execution_count": 19
        }
      ]
    },
    {
      "cell_type": "markdown",
      "source": [
        "Question 2a vii"
      ],
      "metadata": {
        "id": "mxOGKyB3qjpy"
      }
    },
    {
      "cell_type": "code",
      "source": [
        "example_setting = {'male': [0],\n",
        "                   'age' : 45,\n",
        "                   'education' : ['College'],\n",
        "                   'currentSmoker' : [1],\n",
        "                   'cigsPerDay' : [18],\n",
        "                   'BPMeds' : [1],\n",
        "                   'prevalentStroke' : [0],\n",
        "                   'prevalentHyp' : [1],\n",
        "                   'diabetes' : [1],\n",
        "                   'totChol' : [240],\n",
        "                   'sysBP' : [140],\n",
        "                   'diaBP' : [90],\n",
        "                   'BMI' : [36],\n",
        "                   'heartRate' : [72],\n",
        "                   'glucose' : [105]\n",
        "\n",
        "                   }\n",
        "\n",
        "new_logreg = logreg.predict(pd.DataFrame(data = example_setting))\n",
        "print(new_logreg)\n",
        "print(new_logreg > p)"
      ],
      "metadata": {
        "colab": {
          "base_uri": "https://localhost:8080/"
        },
        "id": "fpX8vEiybTAZ",
        "outputId": "32e34a10-8f81-405c-bdc7-f8c0fbafc85a"
      },
      "execution_count": null,
      "outputs": [
        {
          "output_type": "stream",
          "name": "stdout",
          "text": [
            "0    0.129771\n",
            "dtype: float64\n",
            "0    True\n",
            "dtype: bool\n"
          ]
        }
      ]
    },
    {
      "cell_type": "markdown",
      "source": [
        "Because our prediction value of 0.129771 (developing CHD in the next 10 years) is greater than the p value we created from part iii of this question, we can prescribe medication to the new patient."
      ],
      "metadata": {
        "id": "lwvmEyP9sVva"
      }
    },
    {
      "cell_type": "markdown",
      "source": [
        "Question 2b\n",
        "\n",
        "Here is the ROC curve for the logistic regression model on the test set:"
      ],
      "metadata": {
        "id": "FWHR3l8Psg_H"
      }
    },
    {
      "cell_type": "code",
      "source": [
        "import matplotlib.pyplot as plt\n",
        "from sklearn.metrics import roc_curve, auc\n",
        "\n",
        "fpr, tpr, thresholds  = roc_curve(test_data['TenYearCHD'], y_prob)\n",
        "\n",
        "plt.figure(figsize=(8, 6))\n",
        "plt.title('ROC Curve', fontsize=18)\n",
        "plt.xlabel('FPR', fontsize=16)\n",
        "plt.ylabel('TPR', fontsize=16)\n",
        "plt.xlim([-0.01, 1.00])\n",
        "plt.ylim([-0.01, 1.01])\n",
        "plt.plot(fpr, tpr, lw=3, label='Logistic Regression (area = {:0.2f})'.format(roc_auc))\n",
        "plt.plot([0, 1], [0, 1], color='navy', lw=3, linestyle='--', label='Naive Baseline (area = 0.50)')\n",
        "plt.legend(loc='lower right', fontsize=14)\n",
        "plt.show()"
      ],
      "metadata": {
        "colab": {
          "base_uri": "https://localhost:8080/",
          "height": 413
        },
        "id": "bdMMIip0sNYk",
        "outputId": "df104d4a-d6b4-478f-88f7-55a6b8289490"
      },
      "execution_count": null,
      "outputs": [
        {
          "output_type": "display_data",
          "data": {
            "text/plain": [
              "<Figure size 576x432 with 1 Axes>"
            ],
            "image/png": "[encoded data removed]"
          },
          "metadata": {
            "needs_background": "light"
          }
        }
      ]
    },
    {
      "cell_type": "markdown",
      "source": [
        "The ROC curve above shows a combination of FPR and TPR values. The curve may be helpful to decision makers looking to further the study of medication and preventing CHD because it helps us learn the best threshold point to maximize TP and FP; helping diagnosis happen quicker.\n",
        "\n",
        "One interesting thing about the model is that the ROC curve (light blue line) is above the baseline (dark blue dotted line) which means that the curve performs better than the baseline (good information).\n",
        "\n",
        "From the legend of the curve, we can see that the AUC has good discriminative ability between logisitc regression and naive baseline at 0.7."
      ],
      "metadata": {
        "id": "DCYzX1feaHwg"
      }
    },
    {
      "cell_type": "markdown",
      "source": [
        "Question 2c\n",
        "\n",
        "Step 1)\n",
        "((C + 550000) * (0.1p)) + (C *(1-(0.1p))) = 550000p\n",
        "\n",
        "results in:\n",
        "C = 495000p\n",
        "\n",
        "\n",
        "\n",
        "\n",
        "Step 2) plug in p to find c:\n",
        "\n",
        "p = 0.0835\n",
        "\n",
        "C = 495000 * 0.0835 = $41,332.5\n",
        "\n",
        "Therefore, C should be valued at 41,332.5 for the insurance company to charge as a co-payment for the medication in order for the patients to 'self select' in a manner that is consistent with the previously examined 'optimal strategy' discussed in part a.\n",
        "\n",
        "\n"
      ],
      "metadata": {
        "id": "BkdYrYDqvxYS"
      }
    },
    {
      "cell_type": "markdown",
      "source": [
        "Question 2d\n",
        "\n",
        "\n",
        "An aspect of the analysis performed thus far that raised an ethical concern was the aspect that there is a fixed cost for decreased quality of life ($550000) for developing CHD. This fixed cost is arbitrary and we will never be able to create a set cost because life quality can be quantified differently.\n",
        "\n",
        "In order to address this concern, there should be multiple different types of people from different types of backgrounds considered as subjects. This way, people can categorize themselves into different backgrounds and identify themselves rather than there being one blanket option; new adjusted p values would be created in order to calculate different thresholds relative to the patients individual categorization."
      ],
      "metadata": {
        "id": "whr-p4XnxB-f"
      }
    }
  ]
}